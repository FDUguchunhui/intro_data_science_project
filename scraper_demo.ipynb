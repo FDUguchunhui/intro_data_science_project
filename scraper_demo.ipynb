{
 "cells": [
  {
   "cell_type": "markdown",
   "metadata": {},
   "source": [
    "# Manual "
   ]
  },
  {
   "cell_type": "markdown",
   "metadata": {},
   "source": [
    "## 1. Scraper module"
   ]
  },
  {
   "cell_type": "markdown",
   "metadata": {},
   "source": [
    "### 1.1 Query data"
   ]
  },
  {
   "cell_type": "markdown",
   "metadata": {},
   "source": [
    "A scraper module that can collect paper title, author list, publication time, and abstract from PUBMED for a given keyword (i.e., HIV) within a pre-specified time window (that is, 01/01/2020 – 08/30/2020), and saved the retrieved data in the CSV format."
   ]
  },
  {
   "cell_type": "code",
   "execution_count": 1,
   "metadata": {},
   "outputs": [],
   "source": [
    "import pubtools.scraper as scraper"
   ]
  },
  {
   "cell_type": "markdown",
   "metadata": {},
   "source": [
    "The key function in the scraper module is the \"query\" function, which takes three parameter: keyword, time_window, and file.\n"
   ]
  },
  {
   "cell_type": "markdown",
   "metadata": {},
   "source": [
    "The parameter \"keyword\" is a string for searching papers in Pubmed with this keyword. "
   ]
  },
  {
   "cell_type": "markdown",
   "metadata": {},
   "source": [
    "The parameter \"time_window\" is a string list, and the first element will be used as the start data and second element as the end date. The date string in \"time_windows\" must be in the format \"YYYY/MM/DD\". A list with length that is more than two can be accepted without error but only the first two elements will be used."
   ]
  },
  {
   "cell_type": "markdown",
   "metadata": {},
   "source": [
    "The parameter \"file\" is a string that gives the file path used to save the output csv file."
   ]
  },
  {
   "cell_type": "code",
   "execution_count": 2,
   "metadata": {},
   "outputs": [],
   "source": [
    "scraper.query(keyword='HIV', time_window=['2020/01/01', '2020/08/30'], file='HIV.csv')"
   ]
  },
  {
   "cell_type": "markdown",
   "metadata": {},
   "source": [
    "### 1.2 Content and format of the ouput csv file"
   ]
  },
  {
   "cell_type": "markdown",
   "metadata": {},
   "source": [
    "The output csv file will have four columns: 'TI', 'FAU', 'DP', 'AB'.\n",
    "\n",
    "The labels of the title:\n",
    "\n",
    "TI: title\n",
    "\n",
    "FAU: full list of authors\n",
    "\n",
    "DP: data of publication\n",
    "\n",
    "AB: abstract"
   ]
  },
  {
   "cell_type": "code",
   "execution_count": 3,
   "metadata": {},
   "outputs": [],
   "source": [
    "import pandas as pd"
   ]
  },
  {
   "cell_type": "code",
   "execution_count": 4,
   "metadata": {},
   "outputs": [],
   "source": [
    "data_demo = pd.read_csv('HIV.csv')"
   ]
  },
  {
   "cell_type": "code",
   "execution_count": 5,
   "metadata": {},
   "outputs": [
    {
     "data": {
      "text/html": [
       "<div>\n",
       "<style scoped>\n",
       "    .dataframe tbody tr th:only-of-type {\n",
       "        vertical-align: middle;\n",
       "    }\n",
       "\n",
       "    .dataframe tbody tr th {\n",
       "        vertical-align: top;\n",
       "    }\n",
       "\n",
       "    .dataframe thead th {\n",
       "        text-align: right;\n",
       "    }\n",
       "</style>\n",
       "<table border=\"1\" class=\"dataframe\">\n",
       "  <thead>\n",
       "    <tr style=\"text-align: right;\">\n",
       "      <th></th>\n",
       "      <th>TI</th>\n",
       "      <th>FAU</th>\n",
       "      <th>DP</th>\n",
       "      <th>AB</th>\n",
       "    </tr>\n",
       "  </thead>\n",
       "  <tbody>\n",
       "    <tr>\n",
       "      <th>0</th>\n",
       "      <td>High sleep-related breathing disorders among H...</td>\n",
       "      <td>['Chen, Chang-Chun', 'Lin, Cheng-Yu', 'Chen, Y...</td>\n",
       "      <td>2020/08/30 06:00</td>\n",
       "      <td>BACKGROUND: Sleep-related breathing disorders ...</td>\n",
       "    </tr>\n",
       "    <tr>\n",
       "      <th>1</th>\n",
       "      <td>Association of maternal and infant inflammatio...</td>\n",
       "      <td>['Sevenoaks, Tatum', 'Wedderburn, Catherine J'...</td>\n",
       "      <td>2020/08/30 06:00</td>\n",
       "      <td>HIV-exposed uninfected (HEU) children may have...</td>\n",
       "    </tr>\n",
       "    <tr>\n",
       "      <th>2</th>\n",
       "      <td>Head-to-head comparison of Enzyme Linked Immun...</td>\n",
       "      <td>['Tiwari, Aseem Kumar', 'Upadhyay, Anand Praka...</td>\n",
       "      <td>2020/08/30 06:00</td>\n",
       "      <td>Safe blood transfusion being the cornerstone o...</td>\n",
       "    </tr>\n",
       "    <tr>\n",
       "      <th>3</th>\n",
       "      <td>HIV-1 Integrase Inhibitors: A Comparative Revi...</td>\n",
       "      <td>['Scarsi, Kimberly K', 'Havens, Joshua P', 'Po...</td>\n",
       "      <td>2020/08/30 06:00</td>\n",
       "      <td>The newest class of antiretrovirals for all pe...</td>\n",
       "    </tr>\n",
       "    <tr>\n",
       "      <th>4</th>\n",
       "      <td>Comorbidities and HCV coinfection in the manag...</td>\n",
       "      <td>['Garagiola, Elisabetta', 'Foglia, Emanuela', ...</td>\n",
       "      <td>2020/08/30 06:00</td>\n",
       "      <td>BACKGROUND: Since HIV+ treatment has become mo...</td>\n",
       "    </tr>\n",
       "  </tbody>\n",
       "</table>\n",
       "</div>"
      ],
      "text/plain": [
       "                                                  TI  \\\n",
       "0  High sleep-related breathing disorders among H...   \n",
       "1  Association of maternal and infant inflammatio...   \n",
       "2  Head-to-head comparison of Enzyme Linked Immun...   \n",
       "3  HIV-1 Integrase Inhibitors: A Comparative Revi...   \n",
       "4  Comorbidities and HCV coinfection in the manag...   \n",
       "\n",
       "                                                 FAU                DP  \\\n",
       "0  ['Chen, Chang-Chun', 'Lin, Cheng-Yu', 'Chen, Y...  2020/08/30 06:00   \n",
       "1  ['Sevenoaks, Tatum', 'Wedderburn, Catherine J'...  2020/08/30 06:00   \n",
       "2  ['Tiwari, Aseem Kumar', 'Upadhyay, Anand Praka...  2020/08/30 06:00   \n",
       "3  ['Scarsi, Kimberly K', 'Havens, Joshua P', 'Po...  2020/08/30 06:00   \n",
       "4  ['Garagiola, Elisabetta', 'Foglia, Emanuela', ...  2020/08/30 06:00   \n",
       "\n",
       "                                                  AB  \n",
       "0  BACKGROUND: Sleep-related breathing disorders ...  \n",
       "1  HIV-exposed uninfected (HEU) children may have...  \n",
       "2  Safe blood transfusion being the cornerstone o...  \n",
       "3  The newest class of antiretrovirals for all pe...  \n",
       "4  BACKGROUND: Since HIV+ treatment has become mo...  "
      ]
     },
     "execution_count": 5,
     "metadata": {},
     "output_type": "execute_result"
    }
   ],
   "source": [
    "data_demo.head()"
   ]
  },
  {
   "cell_type": "code",
   "execution_count": null,
   "metadata": {},
   "outputs": [],
   "source": []
  }
 ],
 "metadata": {
  "kernelspec": {
   "display_name": "data_science",
   "language": "python",
   "name": "data_science"
  },
  "language_info": {
   "codemirror_mode": {
    "name": "ipython",
    "version": 3
   },
   "file_extension": ".py",
   "mimetype": "text/x-python",
   "name": "python",
   "nbconvert_exporter": "python",
   "pygments_lexer": "ipython3",
   "version": "3.9.7"
  }
 },
 "nbformat": 4,
 "nbformat_minor": 4
}
