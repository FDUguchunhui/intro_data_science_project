{
 "cells": [
  {
   "cell_type": "code",
   "execution_count": 5,
   "metadata": {},
   "outputs": [],
   "source": [
    "from Bio import Entrez, Medline\n",
    "import pandas as pd\n",
    "import csv\n",
    "import os"
   ]
  },
  {
   "cell_type": "code",
   "execution_count": 6,
   "metadata": {},
   "outputs": [],
   "source": [
    "# extract the PMIDs of the papers\n",
    "def get_id(db, key, daterange=('2020/01/01', '2020/08/30')):\n",
    "    Entrez.email = \"ruoxing.li@uth.tmc.edu\"\n",
    "    handle = Entrez.esearch(\n",
    "        db=db,\n",
    "        mindate=daterange[0],\n",
    "        maxdate=daterange[1],\n",
    "        datetype = 'pdat',\n",
    "        term=key)\n",
    "    results = Entrez.read(handle)\n",
    "    # get the count of all papers\n",
    "    count = results['Count']\n",
    "    # get the ids of all papers \n",
    "    handle = Entrez.esearch(\n",
    "        db=db,\n",
    "        mindate=daterange[0],\n",
    "        maxdate=daterange[1],\n",
    "        datetype = 'pdat',\n",
    "        retmax=count,\n",
    "        term=key)\n",
    "    results = Entrez.read(handle)\n",
    "    return results\n",
    "\n",
    "# extract the deatils of the papers\n",
    "def get_paper(id_list):\n",
    "    ids = ','.join(id_list)\n",
    "    Entrez.email = \"ruoxing.li@uth.tmc.edu\"\n",
    "    handle = Entrez.efetch(db='pubmed',\n",
    "                           rettype='medline',\n",
    "                           retmode='text',\n",
    "                           id=ids)\n",
    "    results = Medline.parse(handle)\n",
    "    return results\n",
    "\n",
    "# input: medline generator\n",
    "# output: csv file containing 'title, authors and publication time' of the papers\n",
    "def get_csv(papers, csv_fname):\n",
    "    df = pd.DataFrame.from_dict(papers)\n",
    "    df_f = df[['TI', 'FAU', 'DP', 'AB']]\n",
    "    results = df_f.to_csv(csv_fname)\n",
    "    return results\n",
    "\n",
    "if __name__ == '__main__':\n",
    "    ids = get_id(db='pubmed', key='HIV', daterange=('2020/01/01', '2020/08/30'))\n",
    "    papers = get_paper(ids['IdList'])\n",
    "    get_csv(papers, 'HIV.csv')"
   ]
  },
  {
   "cell_type": "code",
   "execution_count": null,
   "metadata": {},
   "outputs": [],
   "source": []
  }
 ],
 "metadata": {
  "kernelspec": {
   "display_name": "data_science",
   "language": "python",
   "name": "data_science"
  },
  "language_info": {
   "codemirror_mode": {
    "name": "ipython",
    "version": 3
   },
   "file_extension": ".py",
   "mimetype": "text/x-python",
   "name": "python",
   "nbconvert_exporter": "python",
   "pygments_lexer": "ipython3",
   "version": "3.9.7"
  }
 },
 "nbformat": 4,
 "nbformat_minor": 4
}
