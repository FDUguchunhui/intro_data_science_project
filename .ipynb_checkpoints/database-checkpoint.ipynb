{
 "cells": [
  {
   "cell_type": "code",
   "execution_count": 81,
   "metadata": {},
   "outputs": [],
   "source": [
    "import sqlite3\n",
    "import os\n",
    "import pandas as pd"
   ]
  },
  {
   "cell_type": "code",
   "execution_count": 82,
   "metadata": {},
   "outputs": [],
   "source": [
    "csv_f = 'HIV.csv'\n",
    "db_fname = csv_f.replace('.csv', '.db')\n",
    "table_name = os.path.basename(csv_f).split('.')[0].lower()"
   ]
  },
  {
   "cell_type": "code",
   "execution_count": 83,
   "metadata": {},
   "outputs": [],
   "source": [
    "# build database\n",
    "conn = sqlite3.connect(db_fname)\n",
    "cursor = conn.cursor()"
   ]
  },
  {
   "cell_type": "code",
   "execution_count": 84,
   "metadata": {},
   "outputs": [],
   "source": [
    "# drop existing table\n",
    "check = \"\"\"SELECT name FROM sqlite_master WHERE type='table' AND name=?\"\"\"\n",
    "cursor.execute(check, (table_name,))\n",
    "if bool(cursor.fetchone()):\n",
    "    cursor.execute('DROP TABLE ' + table_name)\n",
    "\n",
    "df = pd.read_csv(csv_f, index_col=0)\n",
    "\n",
    "# create sql table\n",
    "df.to_sql(table_name, conn)"
   ]
  },
  {
   "cell_type": "code",
   "execution_count": 86,
   "metadata": {},
   "outputs": [
    {
     "name": "stdin",
     "output_type": "stream",
     "text": [
      "Author name:  chen\n"
     ]
    }
   ],
   "source": [
    "author = input('Author name: ')\n",
    "\n",
    "query = \"SELECT * FROM {0} where FAU like \\'%{1}%\\';\".format(table_name, author)\n",
    "for row in cursor.execute(query):\n",
    "    print(row)"
   ]
  },
  {
   "cell_type": "code",
   "execution_count": null,
   "metadata": {},
   "outputs": [],
   "source": []
  }
 ],
 "metadata": {
  "kernelspec": {
   "display_name": "Python 3",
   "language": "python",
   "name": "python3"
  },
  "language_info": {
   "codemirror_mode": {
    "name": "ipython",
    "version": 3
   },
   "file_extension": ".py",
   "mimetype": "text/x-python",
   "name": "python",
   "nbconvert_exporter": "python",
   "pygments_lexer": "ipython3",
   "version": "3.7.1"
  }
 },
 "nbformat": 4,
 "nbformat_minor": 2
}
