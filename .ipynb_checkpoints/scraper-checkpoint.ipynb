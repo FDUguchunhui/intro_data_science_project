{
 "cells": [
  {
   "cell_type": "code",
   "execution_count": 1,
   "metadata": {},
   "outputs": [
    {
     "ename": "ModuleNotFoundError",
     "evalue": "No module named 'Bio'",
     "output_type": "error",
     "traceback": [
      "\u001b[0;31m---------------------------------------------------------------------------\u001b[0m",
      "\u001b[0;31mModuleNotFoundError\u001b[0m                       Traceback (most recent call last)",
      "\u001b[0;32m/var/folders/vx/43t39d2x5rq3c_gh_5hsw01r0000gn/T/ipykernel_60423/3010267318.py\u001b[0m in \u001b[0;36m<module>\u001b[0;34m\u001b[0m\n\u001b[0;32m----> 1\u001b[0;31m \u001b[0;32mfrom\u001b[0m \u001b[0mBio\u001b[0m \u001b[0;32mimport\u001b[0m \u001b[0mEntrez\u001b[0m\u001b[0;34m,\u001b[0m \u001b[0mMedline\u001b[0m\u001b[0;34m\u001b[0m\u001b[0;34m\u001b[0m\u001b[0m\n\u001b[0m\u001b[1;32m      2\u001b[0m \u001b[0;32mimport\u001b[0m \u001b[0mpandas\u001b[0m \u001b[0;32mas\u001b[0m \u001b[0mpd\u001b[0m\u001b[0;34m\u001b[0m\u001b[0;34m\u001b[0m\u001b[0m\n\u001b[1;32m      3\u001b[0m \u001b[0;32mimport\u001b[0m \u001b[0mcsv\u001b[0m\u001b[0;34m\u001b[0m\u001b[0;34m\u001b[0m\u001b[0m\n\u001b[1;32m      4\u001b[0m \u001b[0;32mimport\u001b[0m \u001b[0mos\u001b[0m\u001b[0;34m\u001b[0m\u001b[0;34m\u001b[0m\u001b[0m\n",
      "\u001b[0;31mModuleNotFoundError\u001b[0m: No module named 'Bio'"
     ]
    }
   ],
   "source": [
    "from Bio import Entrez, Medline\n",
    "import pandas as pd\n",
    "import csv\n",
    "import os"
   ]
  },
  {
   "cell_type": "code",
   "execution_count": null,
   "metadata": {},
   "outputs": [],
   "source": [
    "# extract the PMIDs of the papers\n",
    "def get_id(db, key, daterange=('2020/01/01', '2020/08/30')):\n",
    "    Entrez.email = \"ruoxing.li@uth.tmc.edu\"\n",
    "    handle = Entrez.esearch(\n",
    "        db=db,\n",
    "        mindate=daterange[0],\n",
    "        maxdate=daterange[1],\n",
    "        datetype = 'pdat',\n",
    "        term=key)\n",
    "    results = Entrez.read(handle)\n",
    "    # get the count of all papers\n",
    "    count = results['Count']\n",
    "    # get the ids of all papers \n",
    "    handle = Entrez.esearch(\n",
    "        db=db,\n",
    "        mindate=daterange[0],\n",
    "        maxdate=daterange[1],\n",
    "        datetype = 'pdat',\n",
    "        retmax=count,\n",
    "        term=key)\n",
    "    results = Entrez.read(handle)\n",
    "    return results\n",
    "\n",
    "# extract the deatils of the papers\n",
    "def get_paper(id_list):\n",
    "    ids = ','.join(id_list)\n",
    "    Entrez.email = \"ruoxing.li@uth.tmc.edu\"\n",
    "    handle = Entrez.efetch(db='pubmed',\n",
    "                           rettype='medline',\n",
    "                           retmode='text',\n",
    "                           id=ids)\n",
    "    results = Medline.parse(handle)\n",
    "    return results\n",
    "\n",
    "# input: medline generator\n",
    "# output: csv file containing 'title, authors and publication time' of the papers\n",
    "def get_csv(papers, csv_fname):\n",
    "    df = pd.DataFrame.from_dict(papers)\n",
    "    df_f = df[['TI', 'FAU', 'DP', 'AB']]\n",
    "    results = df_f.to_csv(csv_fname)\n",
    "    return results\n",
    "\n",
    "if __name__ == '__main__':\n",
    "    ids = get_id(db='pubmed', key='HIV', daterange=('2020/01/01', '2020/08/30'))\n",
    "    papers = get_paper(ids['IdList'])\n",
    "    get_csv(papers, 'HIV.csv')"
   ]
  }
 ],
 "metadata": {
  "kernelspec": {
   "display_name": "Python 3 (ipykernel)",
   "language": "python",
   "name": "python3"
  },
  "language_info": {
   "codemirror_mode": {
    "name": "ipython",
    "version": 3
   },
   "file_extension": ".py",
   "mimetype": "text/x-python",
   "name": "python",
   "nbconvert_exporter": "python",
   "pygments_lexer": "ipython3",
   "version": "3.9.7"
  }
 },
 "nbformat": 4,
 "nbformat_minor": 4
}
