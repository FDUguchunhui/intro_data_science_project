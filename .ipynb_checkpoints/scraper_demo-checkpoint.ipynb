{
 "cells": [
  {
   "cell_type": "markdown",
   "metadata": {},
   "source": [
    "# Manual "
   ]
  },
  {
   "cell_type": "markdown",
   "metadata": {},
   "source": [
    "## 1. Scraper module"
   ]
  },
  {
   "cell_type": "markdown",
   "metadata": {},
   "source": [
    "### 1.1 Query data"
   ]
  },
  {
   "cell_type": "markdown",
   "metadata": {},
   "source": [
    "A scraper module that can collect paper title, author list, publication time, and abstract from PUBMED for a given keyword (i.e., HIV) within a pre-specified time window (that is, 01/01/2020 – 08/30/2020), and saved the retrieved data in the CSV format."
   ]
  },
  {
   "cell_type": "code",
   "execution_count": 1,
   "metadata": {},
   "outputs": [],
   "source": [
    "import pubtools.scraper as scraper"
   ]
  },
  {
   "cell_type": "markdown",
   "metadata": {},
   "source": [
    "The key function in the scraper module is the \"query\" function, which takes three parameter: keyword, time_window, and file.\n"
   ]
  },
  {
   "cell_type": "markdown",
   "metadata": {},
   "source": [
    "The parameter \"keyword\" is a string for searching papers in Pubmed with this keyword. "
   ]
  },
  {
   "cell_type": "markdown",
   "metadata": {},
   "source": [
    "The parameter \"time_window\" is a string list, and the first element will be used as the start data and second element as the end date. The date string in \"time_windows\" must be in the format \"YYYY/MM/DD\". A list with length that is more than two can be accepted without error but only the first two elements will be used."
   ]
  },
  {
   "cell_type": "markdown",
   "metadata": {},
   "source": [
    "The parameter \"file\" is a string that gives the file path used to save the output csv file."
   ]
  },
  {
   "cell_type": "code",
   "execution_count": 2,
   "metadata": {},
   "outputs": [],
   "source": [
    "scraper.query(keyword='HIV', time_window=['2020/01/01', '2020/08/30'], file='HIV.csv')"
   ]
  },
  {
   "cell_type": "markdown",
   "metadata": {},
   "source": [
    "### 1.2 Content and format of the ouput csv file"
   ]
  },
  {
   "cell_type": "markdown",
   "metadata": {},
   "source": [
    "The output csv file will have four columns: 'TI', 'FAU', 'DP', 'AB'.\n",
    "\n",
    "The labels of the title:\n",
    "\n",
    "TI: title\n",
    "\n",
    "FAU: full list of authors\n",
    "\n",
    "DP: data of publication\n",
    "\n",
    "AB: abstract"
   ]
  },
  {
   "cell_type": "code",
   "execution_count": 3,
   "metadata": {},
   "outputs": [],
   "source": [
    "import pandas as pd"
   ]
  },
  {
   "cell_type": "code",
   "execution_count": 6,
   "metadata": {},
   "outputs": [],
   "source": [
    "data_demo = pd.read_csv('HIV.csv')"
   ]
  },
  {
   "cell_type": "code",
   "execution_count": 7,
   "metadata": {},
   "outputs": [
    {
     "data": {
      "text/html": [
       "<div>\n",
       "<style scoped>\n",
       "    .dataframe tbody tr th:only-of-type {\n",
       "        vertical-align: middle;\n",
       "    }\n",
       "\n",
       "    .dataframe tbody tr th {\n",
       "        vertical-align: top;\n",
       "    }\n",
       "\n",
       "    .dataframe thead th {\n",
       "        text-align: right;\n",
       "    }\n",
       "</style>\n",
       "<table border=\"1\" class=\"dataframe\">\n",
       "  <thead>\n",
       "    <tr style=\"text-align: right;\">\n",
       "      <th></th>\n",
       "      <th>TI</th>\n",
       "      <th>FAU</th>\n",
       "      <th>DP</th>\n",
       "      <th>AB</th>\n",
       "    </tr>\n",
       "  </thead>\n",
       "  <tbody>\n",
       "    <tr>\n",
       "      <th>0</th>\n",
       "      <td>\"NO BROKERS TO MOVE OUT OF HERE.\": A MIXED MET...</td>\n",
       "      <td>['Beharie, Nisha', 'Leonard, Noelle R', 'Gwadz...</td>\n",
       "      <td>2021</td>\n",
       "      <td>Homelessness in the United States has been inc...</td>\n",
       "    </tr>\n",
       "    <tr>\n",
       "      <th>1</th>\n",
       "      <td>Clinicomycological study of vulvovaginal candi...</td>\n",
       "      <td>['Seeniammal, S', 'Selvakumar, M', 'Nirmaladev...</td>\n",
       "      <td>2021 Jan-Jun</td>\n",
       "      <td>Background: Vaginal candidiasis is one of the ...</td>\n",
       "    </tr>\n",
       "    <tr>\n",
       "      <th>2</th>\n",
       "      <td>A randomized prospective study to assess healt...</td>\n",
       "      <td>['Kumar, Vikas', 'Singh, Jatinder', 'Singh, Ha...</td>\n",
       "      <td>2021 Jan-Jun</td>\n",
       "      <td>Introduction: Health-related quality of life (...</td>\n",
       "    </tr>\n",
       "    <tr>\n",
       "      <th>3</th>\n",
       "      <td>A Computable Phenotype Model for Classificatio...</td>\n",
       "      <td>['Salway, Travis', 'Butt, Zahid A', 'Wong, Sta...</td>\n",
       "      <td>2020</td>\n",
       "      <td>Background: Most public health datasets do not...</td>\n",
       "    </tr>\n",
       "    <tr>\n",
       "      <th>4</th>\n",
       "      <td>Huge Atypical Sub Mental Swelling: A Rare Pres...</td>\n",
       "      <td>['Chintale, Sambhaji G', 'Kirdak, Vilas R', 'J...</td>\n",
       "      <td>2021 Dec</td>\n",
       "      <td>As we know tuberculosis is common disease in d...</td>\n",
       "    </tr>\n",
       "  </tbody>\n",
       "</table>\n",
       "</div>"
      ],
      "text/plain": [
       "                                                  TI  \\\n",
       "0  \"NO BROKERS TO MOVE OUT OF HERE.\": A MIXED MET...   \n",
       "1  Clinicomycological study of vulvovaginal candi...   \n",
       "2  A randomized prospective study to assess healt...   \n",
       "3  A Computable Phenotype Model for Classificatio...   \n",
       "4  Huge Atypical Sub Mental Swelling: A Rare Pres...   \n",
       "\n",
       "                                                 FAU            DP  \\\n",
       "0  ['Beharie, Nisha', 'Leonard, Noelle R', 'Gwadz...          2021   \n",
       "1  ['Seeniammal, S', 'Selvakumar, M', 'Nirmaladev...  2021 Jan-Jun   \n",
       "2  ['Kumar, Vikas', 'Singh, Jatinder', 'Singh, Ha...  2021 Jan-Jun   \n",
       "3  ['Salway, Travis', 'Butt, Zahid A', 'Wong, Sta...          2020   \n",
       "4  ['Chintale, Sambhaji G', 'Kirdak, Vilas R', 'J...      2021 Dec   \n",
       "\n",
       "                                                  AB  \n",
       "0  Homelessness in the United States has been inc...  \n",
       "1  Background: Vaginal candidiasis is one of the ...  \n",
       "2  Introduction: Health-related quality of life (...  \n",
       "3  Background: Most public health datasets do not...  \n",
       "4  As we know tuberculosis is common disease in d...  "
      ]
     },
     "execution_count": 7,
     "metadata": {},
     "output_type": "execute_result"
    }
   ],
   "source": [
    "data_demo.head()"
   ]
  },
  {
   "cell_type": "code",
   "execution_count": null,
   "metadata": {},
   "outputs": [],
   "source": []
  }
 ],
 "metadata": {
  "kernelspec": {
   "display_name": "data_science",
   "language": "python",
   "name": "data_science"
  },
  "language_info": {
   "codemirror_mode": {
    "name": "ipython",
    "version": 3
   },
   "file_extension": ".py",
   "mimetype": "text/x-python",
   "name": "python",
   "nbconvert_exporter": "python",
   "pygments_lexer": "ipython3",
   "version": "3.9.7"
  }
 },
 "nbformat": 4,
 "nbformat_minor": 4
}
