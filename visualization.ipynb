{
 "cells": [
  {
   "cell_type": "code",
   "execution_count": 3,
   "metadata": {
    "id": "56RIVHvU9dw_"
   },
   "outputs": [],
   "source": [
    "import pandas as pd\n",
    "import numpy as np\n",
    "from datetime import datetime\n",
    "from scipy import stats\n",
    "from plotnine import *"
   ]
  },
  {
   "cell_type": "code",
   "execution_count": 4,
   "metadata": {
    "id": "LSVzj8aJ9dxD"
   },
   "outputs": [],
   "source": [
    "# convert the date to date\n",
    "# format shoube be %Y %b (%d)\n",
    "def to_date(pulication_date):\n",
    "    dates = []\n",
    "    for x in pulication_date:\n",
    "        try:\n",
    "            d = datetime.strptime(x, '%Y %b %d')\n",
    "        except ValueError:\n",
    "            try: \n",
    "                d = datetime.strptime(x,'%Y %b')\n",
    "            except ValueError:\n",
    "                d = None\n",
    "        dates.append(d)    \n",
    "    return dates\n",
    "\n",
    "# calculate summary statistics \n",
    "def summary(x):\n",
    "    return{\n",
    "        'mean': np.mean(x),\n",
    "        'std': np.std(x),\n",
    "        'range': (np.min(x), np.max(x)),\n",
    "        'quantiles': np.quantile(x, [0.25, 0.50, 0.75])\n",
    "    }"
   ]
  },
  {
   "cell_type": "code",
   "execution_count": 5,
   "metadata": {
    "id": "Q3z3GQkQ9dxE",
    "outputId": "c218a08c-dbbc-4bfe-ecbc-54a3ec6ced93"
   },
   "outputs": [
    {
     "data": {
      "text/plain": [
       "month\n",
       "2019-11      1\n",
       "2019-12      8\n",
       "2020-01    242\n",
       "2020-02    441\n",
       "2020-03    669\n",
       "2020-04    736\n",
       "2020-05    787\n",
       "2020-06    919\n",
       "2020-07    960\n",
       "2020-08    965\n",
       "2020-09    394\n",
       "2020-10    292\n",
       "2020-11    186\n",
       "2020-12    176\n",
       "2021-01     98\n",
       "2021-02    104\n",
       "2021-03     70\n",
       "2021-04     54\n",
       "2021-05     41\n",
       "2021-06     38\n",
       "2021-07     25\n",
       "2021-08     22\n",
       "2021-09     17\n",
       "2021-10     20\n",
       "2021-11     14\n",
       "2021-12     10\n",
       "2022-01      1\n",
       "Freq: M, Name: month, dtype: int64"
      ]
     },
     "execution_count": 5,
     "metadata": {},
     "output_type": "execute_result"
    }
   ],
   "source": [
    "# read the csv file\n",
    "csv_f = 'HIV.csv'\n",
    "hiv_df = pd.read_csv(csv_f, index_col=0)\n",
    "hiv_df['date'] = to_date(hiv_df['DP'])\n",
    "hiv_df['month'] = hiv_df['date'].dt.to_period('M')\n",
    "per_month = hiv_df.groupby(['month'])['month'].count()\n",
    "per_month"
   ]
  },
  {
   "cell_type": "code",
   "execution_count": 6,
   "metadata": {
    "id": "hAtS-GcU9dxG",
    "outputId": "0ddffd53-032f-414e-9f56-a4ddf9731f73"
   },
   "outputs": [
    {
     "data": {
      "text/plain": [
       "{'mean': 270.0,\n",
       " 'std': 329.4411654324357,\n",
       " 'range': (1, 965),\n",
       " 'quantiles': array([ 21. ,  98. , 417.5])}"
      ]
     },
     "execution_count": 6,
     "metadata": {},
     "output_type": "execute_result"
    }
   ],
   "source": [
    "summary(per_month)"
   ]
  },
  {
   "cell_type": "code",
   "execution_count": 7,
   "metadata": {
    "id": "1mNzg-GP9dxG"
   },
   "outputs": [],
   "source": [
    "hiv_df_month = per_month.to_frame()\n",
    "hiv_df_month = hiv_df_month.rename(columns={'month': 'count'})\n",
    "hiv_df_month['month'] = hiv_df_month.index\n",
    "hiv_df_month['count_lci'] = stats.poisson.ppf(0.05, per_month.values)\n",
    "hiv_df_month['count_rci'] = stats.poisson.ppf(0.95, per_month.values)"
   ]
  },
  {
   "cell_type": "code",
   "execution_count": 8,
   "metadata": {
    "id": "MbMa2sXG9dxH",
    "outputId": "5f3f4396-9d24-4f56-ab60-64a3bc373352"
   },
   "outputs": [
    {
     "data": {
      "text/html": [
       "<div>\n",
       "<style scoped>\n",
       "    .dataframe tbody tr th:only-of-type {\n",
       "        vertical-align: middle;\n",
       "    }\n",
       "\n",
       "    .dataframe tbody tr th {\n",
       "        vertical-align: top;\n",
       "    }\n",
       "\n",
       "    .dataframe thead th {\n",
       "        text-align: right;\n",
       "    }\n",
       "</style>\n",
       "<table border=\"1\" class=\"dataframe\">\n",
       "  <thead>\n",
       "    <tr style=\"text-align: right;\">\n",
       "      <th></th>\n",
       "      <th>count</th>\n",
       "      <th>month</th>\n",
       "      <th>count_lci</th>\n",
       "      <th>count_rci</th>\n",
       "    </tr>\n",
       "    <tr>\n",
       "      <th>month</th>\n",
       "      <th></th>\n",
       "      <th></th>\n",
       "      <th></th>\n",
       "      <th></th>\n",
       "    </tr>\n",
       "  </thead>\n",
       "  <tbody>\n",
       "    <tr>\n",
       "      <th>2019-11</th>\n",
       "      <td>1</td>\n",
       "      <td>2019-11</td>\n",
       "      <td>0.0</td>\n",
       "      <td>3.0</td>\n",
       "    </tr>\n",
       "    <tr>\n",
       "      <th>2019-12</th>\n",
       "      <td>8</td>\n",
       "      <td>2019-12</td>\n",
       "      <td>4.0</td>\n",
       "      <td>13.0</td>\n",
       "    </tr>\n",
       "    <tr>\n",
       "      <th>2020-01</th>\n",
       "      <td>242</td>\n",
       "      <td>2020-01</td>\n",
       "      <td>217.0</td>\n",
       "      <td>268.0</td>\n",
       "    </tr>\n",
       "    <tr>\n",
       "      <th>2020-02</th>\n",
       "      <td>441</td>\n",
       "      <td>2020-02</td>\n",
       "      <td>407.0</td>\n",
       "      <td>476.0</td>\n",
       "    </tr>\n",
       "    <tr>\n",
       "      <th>2020-03</th>\n",
       "      <td>669</td>\n",
       "      <td>2020-03</td>\n",
       "      <td>627.0</td>\n",
       "      <td>712.0</td>\n",
       "    </tr>\n",
       "    <tr>\n",
       "      <th>2020-04</th>\n",
       "      <td>736</td>\n",
       "      <td>2020-04</td>\n",
       "      <td>692.0</td>\n",
       "      <td>781.0</td>\n",
       "    </tr>\n",
       "    <tr>\n",
       "      <th>2020-05</th>\n",
       "      <td>787</td>\n",
       "      <td>2020-05</td>\n",
       "      <td>741.0</td>\n",
       "      <td>833.0</td>\n",
       "    </tr>\n",
       "    <tr>\n",
       "      <th>2020-06</th>\n",
       "      <td>919</td>\n",
       "      <td>2020-06</td>\n",
       "      <td>869.0</td>\n",
       "      <td>969.0</td>\n",
       "    </tr>\n",
       "    <tr>\n",
       "      <th>2020-07</th>\n",
       "      <td>960</td>\n",
       "      <td>2020-07</td>\n",
       "      <td>909.0</td>\n",
       "      <td>1011.0</td>\n",
       "    </tr>\n",
       "    <tr>\n",
       "      <th>2020-08</th>\n",
       "      <td>965</td>\n",
       "      <td>2020-08</td>\n",
       "      <td>914.0</td>\n",
       "      <td>1016.0</td>\n",
       "    </tr>\n",
       "    <tr>\n",
       "      <th>2020-09</th>\n",
       "      <td>394</td>\n",
       "      <td>2020-09</td>\n",
       "      <td>362.0</td>\n",
       "      <td>427.0</td>\n",
       "    </tr>\n",
       "    <tr>\n",
       "      <th>2020-10</th>\n",
       "      <td>292</td>\n",
       "      <td>2020-10</td>\n",
       "      <td>264.0</td>\n",
       "      <td>320.0</td>\n",
       "    </tr>\n",
       "    <tr>\n",
       "      <th>2020-11</th>\n",
       "      <td>186</td>\n",
       "      <td>2020-11</td>\n",
       "      <td>164.0</td>\n",
       "      <td>209.0</td>\n",
       "    </tr>\n",
       "    <tr>\n",
       "      <th>2020-12</th>\n",
       "      <td>176</td>\n",
       "      <td>2020-12</td>\n",
       "      <td>154.0</td>\n",
       "      <td>198.0</td>\n",
       "    </tr>\n",
       "    <tr>\n",
       "      <th>2021-01</th>\n",
       "      <td>98</td>\n",
       "      <td>2021-01</td>\n",
       "      <td>82.0</td>\n",
       "      <td>115.0</td>\n",
       "    </tr>\n",
       "    <tr>\n",
       "      <th>2021-02</th>\n",
       "      <td>104</td>\n",
       "      <td>2021-02</td>\n",
       "      <td>88.0</td>\n",
       "      <td>121.0</td>\n",
       "    </tr>\n",
       "    <tr>\n",
       "      <th>2021-03</th>\n",
       "      <td>70</td>\n",
       "      <td>2021-03</td>\n",
       "      <td>57.0</td>\n",
       "      <td>84.0</td>\n",
       "    </tr>\n",
       "    <tr>\n",
       "      <th>2021-04</th>\n",
       "      <td>54</td>\n",
       "      <td>2021-04</td>\n",
       "      <td>42.0</td>\n",
       "      <td>66.0</td>\n",
       "    </tr>\n",
       "    <tr>\n",
       "      <th>2021-05</th>\n",
       "      <td>41</td>\n",
       "      <td>2021-05</td>\n",
       "      <td>31.0</td>\n",
       "      <td>52.0</td>\n",
       "    </tr>\n",
       "    <tr>\n",
       "      <th>2021-06</th>\n",
       "      <td>38</td>\n",
       "      <td>2021-06</td>\n",
       "      <td>28.0</td>\n",
       "      <td>48.0</td>\n",
       "    </tr>\n",
       "    <tr>\n",
       "      <th>2021-07</th>\n",
       "      <td>25</td>\n",
       "      <td>2021-07</td>\n",
       "      <td>17.0</td>\n",
       "      <td>33.0</td>\n",
       "    </tr>\n",
       "    <tr>\n",
       "      <th>2021-08</th>\n",
       "      <td>22</td>\n",
       "      <td>2021-08</td>\n",
       "      <td>15.0</td>\n",
       "      <td>30.0</td>\n",
       "    </tr>\n",
       "    <tr>\n",
       "      <th>2021-09</th>\n",
       "      <td>17</td>\n",
       "      <td>2021-09</td>\n",
       "      <td>11.0</td>\n",
       "      <td>24.0</td>\n",
       "    </tr>\n",
       "    <tr>\n",
       "      <th>2021-10</th>\n",
       "      <td>20</td>\n",
       "      <td>2021-10</td>\n",
       "      <td>13.0</td>\n",
       "      <td>28.0</td>\n",
       "    </tr>\n",
       "    <tr>\n",
       "      <th>2021-11</th>\n",
       "      <td>14</td>\n",
       "      <td>2021-11</td>\n",
       "      <td>8.0</td>\n",
       "      <td>20.0</td>\n",
       "    </tr>\n",
       "    <tr>\n",
       "      <th>2021-12</th>\n",
       "      <td>10</td>\n",
       "      <td>2021-12</td>\n",
       "      <td>5.0</td>\n",
       "      <td>15.0</td>\n",
       "    </tr>\n",
       "    <tr>\n",
       "      <th>2022-01</th>\n",
       "      <td>1</td>\n",
       "      <td>2022-01</td>\n",
       "      <td>0.0</td>\n",
       "      <td>3.0</td>\n",
       "    </tr>\n",
       "  </tbody>\n",
       "</table>\n",
       "</div>"
      ],
      "text/plain": [
       "         count    month  count_lci  count_rci\n",
       "month                                        \n",
       "2019-11      1  2019-11        0.0        3.0\n",
       "2019-12      8  2019-12        4.0       13.0\n",
       "2020-01    242  2020-01      217.0      268.0\n",
       "2020-02    441  2020-02      407.0      476.0\n",
       "2020-03    669  2020-03      627.0      712.0\n",
       "2020-04    736  2020-04      692.0      781.0\n",
       "2020-05    787  2020-05      741.0      833.0\n",
       "2020-06    919  2020-06      869.0      969.0\n",
       "2020-07    960  2020-07      909.0     1011.0\n",
       "2020-08    965  2020-08      914.0     1016.0\n",
       "2020-09    394  2020-09      362.0      427.0\n",
       "2020-10    292  2020-10      264.0      320.0\n",
       "2020-11    186  2020-11      164.0      209.0\n",
       "2020-12    176  2020-12      154.0      198.0\n",
       "2021-01     98  2021-01       82.0      115.0\n",
       "2021-02    104  2021-02       88.0      121.0\n",
       "2021-03     70  2021-03       57.0       84.0\n",
       "2021-04     54  2021-04       42.0       66.0\n",
       "2021-05     41  2021-05       31.0       52.0\n",
       "2021-06     38  2021-06       28.0       48.0\n",
       "2021-07     25  2021-07       17.0       33.0\n",
       "2021-08     22  2021-08       15.0       30.0\n",
       "2021-09     17  2021-09       11.0       24.0\n",
       "2021-10     20  2021-10       13.0       28.0\n",
       "2021-11     14  2021-11        8.0       20.0\n",
       "2021-12     10  2021-12        5.0       15.0\n",
       "2022-01      1  2022-01        0.0        3.0"
      ]
     },
     "execution_count": 8,
     "metadata": {},
     "output_type": "execute_result"
    }
   ],
   "source": [
    "hiv_df_month "
   ]
  },
  {
   "cell_type": "code",
   "execution_count": 9,
   "metadata": {
    "id": "4dKpWSxV9dxH",
    "outputId": "57fc4e00-4aff-410b-9f6d-9a565bf9a508"
   },
   "outputs": [
    {
     "data": {
      "image/png": "[encoded data removed]",
      "text/plain": [
       "<Figure size 640x480 with 1 Axes>"
      ]
     },
     "metadata": {},
     "output_type": "display_data"
    },
    {
     "data": {
      "text/plain": [
       "<ggplot: (8761632832422)>"
      ]
     },
     "execution_count": 9,
     "metadata": {},
     "output_type": "execute_result"
    }
   ],
   "source": [
    "(\n",
    "    ggplot(hiv_df_month, aes(x='month', y='count')) +\n",
    "        theme_classic() +\n",
    "        geom_col(fill='#990099') +\n",
    "        geom_errorbar(\n",
    "            aes(ymin='count_lci', ymax='count_rci'),\n",
    "            width = 0.3\n",
    "        ) +\n",
    "        theme(axis_text_x = element_text(angle=45, hjust=1))\n",
    ")"
   ]
  },
  {
   "cell_type": "code",
   "execution_count": null,
   "metadata": {
    "id": "igb8KVj79dxI"
   },
   "outputs": [],
   "source": []
  }
 ],
 "metadata": {
  "colab": {
   "name": "visualization.ipynb",
   "provenance": []
  },
  "kernelspec": {
   "display_name": "Python 3 (ipykernel)",
   "language": "python",
   "name": "python3"
  },
  "language_info": {
   "codemirror_mode": {
    "name": "ipython",
    "version": 3
   },
   "file_extension": ".py",
   "mimetype": "text/x-python",
   "name": "python",
   "nbconvert_exporter": "python",
   "pygments_lexer": "ipython3",
   "version": "3.9.7"
  }
 },
 "nbformat": 4,
 "nbformat_minor": 4
}
